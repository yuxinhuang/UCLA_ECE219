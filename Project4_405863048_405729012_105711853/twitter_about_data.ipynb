{
  "cells": [
    {
      "cell_type": "code",
      "execution_count": null,
      "metadata": {
        "id": "LdBZUfJx90C7"
      },
      "outputs": [],
      "source": [
        "#@markdown Setup\n",
        "#@markdown - Packages needed.\n",
        "import os, re, csv, json, datetime\n",
        "import numpy as np\n",
        "import pandas as pd\n",
        "import matplotlib.pyplot as plt\n"
      ]
    },
    {
      "cell_type": "code",
      "execution_count": null,
      "metadata": {
        "id": "M8DruQ4290DK"
      },
      "outputs": [],
      "source": [
        "#@markdown File links\n",
        "link_gohawks = \"./tweets_#gohawks.txt\"\n",
        "link_gopatriots = \"./tweets_#gopatriots.txt\"\n",
        "link_nfl = \"./tweets_#nfl.txt\"\n",
        "link_patriots = \"./tweets_#patriots.txt\"\n",
        "link_sb49 = \"./tweets_#sb49.txt\"\n",
        "link_superbowl = \"./tweets_#superbowl.txt\""
      ]
    },
    {
      "cell_type": "code",
      "execution_count": null,
      "metadata": {
        "id": "PGxa1kLu90D1"
      },
      "outputs": [],
      "source": [
        "#@markdown Helper functions\n",
        "#@markdown - Read file and return `json_file`.\n",
        "def read_file(link):\n",
        "  json_file = []\n",
        "  with open(link) as f:\n",
        "    for line in f:\n",
        "      json_file.append(json.loads(line))\n",
        "  return json_file\n",
        "\n",
        "#@markdown - Report stats.\n",
        "def report_tweet(tweets, file_name):\n",
        "  num_tweets = len(tweets)\n",
        "  citation_dates = []\n",
        "  followers = []\n",
        "  retweets = []\n",
        "  for tw in tweets:\n",
        "    citation_dates.append(tw[\"citation_date\"])\n",
        "    followers.append(tw[\"author\"][\"followers\"])\n",
        "    retweets.append(tw['metrics']['citations']['total'])\n",
        "  tws_per_hour = num_tweets / ((max(citation_dates) - min(citation_dates)) / 3600.0)\n",
        "  avg_followers = sum(followers) / num_tweets\n",
        "  avg_retweets = sum(retweets) / num_tweets\n",
        "  print(\"Report for \", file_name)\n",
        "  print(\" - Average number of tweets per hour: \", tws_per_hour)\n",
        "  print(\" - Average number of followers: \", avg_followers)\n",
        "  print(\" - Average number of retweets: \", avg_retweets)"
      ]
    },
    {
      "cell_type": "code",
      "execution_count": null,
      "metadata": {
        "id": "sJaW5mbg90EF"
      },
      "outputs": [],
      "source": [
        "tweet_gohawks = read_file(link_gohawks)"
      ]
    },
    {
      "cell_type": "code",
      "execution_count": null,
      "metadata": {
        "id": "B-FoIDhE90EH",
        "outputId": "56f8ce86-597f-424e-90fc-28f8fa5fc1ed"
      },
      "outputs": [
        {
          "name": "stdout",
          "output_type": "stream",
          "text": [
            "Report for  #gohawks\n",
            " - Average number of tweets per hour:  292.48785062173687\n",
            " - Average number of followers:  2217.9237355281984\n",
            " - Average number of retweets:  2.0132093991319877\n"
          ]
        }
      ],
      "source": [
        "report_tweet(tweet_gohawks, \"#gohawks\")"
      ]
    },
    {
      "cell_type": "code",
      "execution_count": null,
      "metadata": {
        "id": "rgG5hcC290EK"
      },
      "outputs": [],
      "source": [
        "tweet_gopatriots = read_file(link_gopatriots)"
      ]
    },
    {
      "cell_type": "code",
      "execution_count": null,
      "metadata": {
        "id": "z-DvfFxK90EL",
        "outputId": "d45762d3-e07b-46d7-f7f7-ab62713d1ec8"
      },
      "outputs": [
        {
          "name": "stdout",
          "output_type": "stream",
          "text": [
            "Report for  #gopatriots\n",
            " - Average number of tweets per hour:  40.95469800606194\n",
            " - Average number of followers:  1427.2526051635405\n",
            " - Average number of retweets:  1.4081919101697078\n"
          ]
        }
      ],
      "source": [
        "report_tweet(tweet_gopatriots, \"#gopatriots\")"
      ]
    },
    {
      "cell_type": "code",
      "execution_count": null,
      "metadata": {
        "id": "qRrWQ2KL90EO"
      },
      "outputs": [],
      "source": [
        "tweet_nfl = read_file(link_nfl)"
      ]
    },
    {
      "cell_type": "code",
      "execution_count": null,
      "metadata": {
        "id": "cXSu3sBR90ER",
        "outputId": "f5438919-6023-4840-9403-7e0d4eb25a7f"
      },
      "outputs": [
        {
          "name": "stdout",
          "output_type": "stream",
          "text": [
            "Report for  #nfl\n",
            " - Average number of tweets per hour:  397.0213901819841\n",
            " - Average number of followers:  4662.37544523693\n",
            " - Average number of retweets:  1.5344602655543254\n"
          ]
        }
      ],
      "source": [
        "report_tweet(tweet_nfl, \"#nfl\")"
      ]
    },
    {
      "cell_type": "code",
      "execution_count": null,
      "metadata": {
        "id": "JG-WdtQg90EX"
      },
      "outputs": [],
      "source": [
        "tweet_patriots = read_file(link_patriots)"
      ]
    },
    {
      "cell_type": "code",
      "execution_count": null,
      "metadata": {
        "id": "4q7SQhUW90Ea",
        "outputId": "f9743a2b-e491-463a-e6e0-1e91ae459a86"
      },
      "outputs": [
        {
          "name": "stdout",
          "output_type": "stream",
          "text": [
            "Report for  #patriots\n",
            " - Average number of tweets per hour:  750.89426460689\n",
            " - Average number of followers:  3280.4635616550277\n",
            " - Average number of retweets:  1.7852871288476946\n"
          ]
        }
      ],
      "source": [
        "report_tweet(tweet_patriots, \"#patriots\")"
      ]
    },
    {
      "cell_type": "code",
      "execution_count": null,
      "metadata": {
        "id": "nzIfEcoA90Eb"
      },
      "outputs": [],
      "source": [
        "tweet_sb49 = read_file(link_sb49)"
      ]
    },
    {
      "cell_type": "code",
      "execution_count": null,
      "metadata": {
        "id": "iUKQ6bAa90Ec",
        "outputId": "a9d3533b-94c4-4787-a05f-458d828faac9"
      },
      "outputs": [
        {
          "name": "stdout",
          "output_type": "stream",
          "text": [
            "Report for  #sb49\n",
            " - Average number of tweets per hour:  1276.8570598680474\n",
            " - Average number of followers:  10374.160292019487\n",
            " - Average number of retweets:  2.52713444111402\n"
          ]
        }
      ],
      "source": [
        "report_tweet(tweet_sb49, \"#sb49\")"
      ]
    },
    {
      "cell_type": "code",
      "execution_count": null,
      "metadata": {
        "id": "hrvKiV5E90Ed"
      },
      "outputs": [],
      "source": [
        "tweet_superbowl = read_file(link_superbowl)"
      ]
    },
    {
      "cell_type": "code",
      "execution_count": null,
      "metadata": {
        "id": "yD3Zfjo590Ee",
        "outputId": "8d11eb6d-bf88-46d2-a37f-73d4b9ea8dfd"
      },
      "outputs": [
        {
          "name": "stdout",
          "output_type": "stream",
          "text": [
            "Report for  #superbowl\n",
            " - Average number of tweets per hour:  2072.11840170408\n",
            " - Average number of followers:  8814.96799424623\n",
            " - Average number of retweets:  2.3911895819207736\n"
          ]
        }
      ],
      "source": [
        "report_tweet(tweet_superbowl, \"#superbowl\")"
      ]
    },
    {
      "cell_type": "code",
      "execution_count": null,
      "metadata": {
        "id": "iJ5Rs7jl90Ef"
      },
      "outputs": [],
      "source": [
        "# number of tweets in hour for #superbowl\n",
        "def plot_tws_in_hour(tweets, file_name):\n",
        "    citation_dates = [tw[\"citation_date\"] for tw in tweets]\n",
        "    earliest = min(citation_dates)\n",
        "    counts_per_hour = [0] * (int)((max(citation_dates) - min(citation_dates))/3600.0 + 1)\n",
        "    for cd in citation_dates:\n",
        "        counts_per_hour[(int)((cd - earliest) / 3600.0)] += 1\n",
        "    plt.bar(np.arange(len(counts_per_hour)), counts_per_hour, 1)\n",
        "    plt.xlabel(\"Hour Index\")\n",
        "    plt.ylabel(\"Number of Tweets of \" + file_name)\n",
        "    plt.title(\"Number of Tweets in Hour for \" + file_name)\n",
        "    plt.show()\n",
        "    "
      ]
    },
    {
      "cell_type": "code",
      "execution_count": null,
      "metadata": {
        "scrolled": true,
        "id": "_04D662r90Ek",
        "outputId": "5b23482e-421b-4d8f-8eb8-bbe238d59d36"
      },
      "outputs": [
        {
          "data": {
            "image/png": "[encoded data removed]",
            "text/plain": [
              "<Figure size 432x288 with 1 Axes>"
            ]
          },
          "metadata": {
            "needs_background": "light"
          },
          "output_type": "display_data"
        }
      ],
      "source": [
        "plot_tws_in_hour(tweet_superbowl, \"#superbowl\")"
      ]
    },
    {
      "cell_type": "code",
      "execution_count": null,
      "metadata": {
        "id": "Vs1zOUcM90Em",
        "outputId": "b9881997-9063-47da-cd0d-1d91b951a3be"
      },
      "outputs": [
        {
          "data": {
            "image/png": "[encoded data removed]",
            "text/plain": [
              "<Figure size 432x288 with 1 Axes>"
            ]
          },
          "metadata": {
            "needs_background": "light"
          },
          "output_type": "display_data"
        }
      ],
      "source": [
        "plot_tws_in_hour(tweet_nfl, \"#nfl\")"
      ]
    },
    {
      "cell_type": "code",
      "execution_count": null,
      "metadata": {
        "id": "8qTMFCMh90Ep",
        "outputId": "76e98681-d0be-4f0a-ec32-60f8d2f5e266"
      },
      "outputs": [
        {
          "data": {
            "image/png": "[encoded data removed]",
            "text/plain": [
              "<Figure size 432x288 with 1 Axes>"
            ]
          },
          "metadata": {
            "needs_background": "light"
          },
          "output_type": "display_data"
        }
      ],
      "source": [
        "plot_tws_in_hour(tweet_gohawks, \"#gohawks\")"
      ]
    },
    {
      "cell_type": "code",
      "execution_count": null,
      "metadata": {
        "id": "qKBjmWfI90Er",
        "outputId": "760553ed-4af0-442f-d8e1-641388639024"
      },
      "outputs": [
        {
          "data": {
            "text/plain": [
              "1213813"
            ]
          },
          "execution_count": 22,
          "metadata": {},
          "output_type": "execute_result"
        }
      ],
      "source": [
        "len(tweet_superbowl)"
      ]
    },
    {
      "cell_type": "code",
      "execution_count": null,
      "metadata": {
        "id": "331537Xm90Es"
      },
      "outputs": [],
      "source": [
        ""
      ]
    }
  ],
  "metadata": {
    "kernelspec": {
      "display_name": "Python 3",
      "language": "python",
      "name": "python3"
    },
    "language_info": {
      "codemirror_mode": {
        "name": "ipython",
        "version": 3
      },
      "file_extension": ".py",
      "mimetype": "text/x-python",
      "name": "python",
      "nbconvert_exporter": "python",
      "pygments_lexer": "ipython3",
      "version": "3.8.5"
    },
    "colab": {
      "name": "twitter-about-data.ipynb",
      "provenance": []
    }
  },
  "nbformat": 4,
  "nbformat_minor": 0
}